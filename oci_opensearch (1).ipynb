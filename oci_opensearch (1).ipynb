{
 "cells": [
  {
   "cell_type": "markdown",
   "id": "078bf790-e8a3-4b7e-b224-a3636c1a4c26",
   "metadata": {},
   "source": [
    "# **OCI Search with OpenSearch**"
   ]
  },
  {
   "cell_type": "code",
   "execution_count": 2,
   "id": "ecaa2097-cd7c-4bfa-a75b-836553b51716",
   "metadata": {
    "tags": []
   },
   "outputs": [],
   "source": [
    "\n",
    "## Create an OCI Search with Opensearch cluster in OCI, in private subnet in Chicago. Add ports\n",
    "## Notebook in same private subnet as opensearch cluster\n",
    "## install conda\n",
    "\n",
    "## What are people asking? What are people searching for?"
   ]
  },
  {
   "cell_type": "code",
   "execution_count": 2,
   "id": "46ba1d97-e7e1-4710-bdf9-94b6b0b85d94",
   "metadata": {
    "tags": []
   },
   "outputs": [],
   "source": [
    "#!pip install langchain sentence-transformers"
   ]
  },
  {
   "cell_type": "code",
   "execution_count": 1,
   "id": "2149b162-d88a-4116-b697-9ee7124daaff",
   "metadata": {
    "tags": []
   },
   "outputs": [],
   "source": [
    "from opensearchpy import OpenSearch, RequestsHttpConnection\n",
    "from langchain_community.vectorstores import OpenSearchVectorSearch\n",
    "from langchain_core.documents import Document\n",
    "from langchain_community.embeddings import HuggingFaceEmbeddings\n",
    "from langchain.chains import LLMChain\n",
    "from langchain_core.prompts import PromptTemplate\n",
    "from langchain.schema.runnable import RunnablePassthrough\n",
    "from langchain.vectorstores import OpenSearchVectorSearch"
   ]
  },
  {
   "cell_type": "code",
   "execution_count": null,
   "id": "4a6bf6d3-be6e-4bd3-a299-595bcfcd5994",
   "metadata": {},
   "outputs": [],
   "source": []
  },
  {
   "cell_type": "markdown",
   "id": "bf246888-fc94-475f-b5b4-9827135c1ff8",
   "metadata": {},
   "source": [
    "## **Credentials**"
   ]
  },
  {
   "cell_type": "code",
   "execution_count": 8,
   "id": "a55bfa29-392a-41c8-be05-3f489c26c2bc",
   "metadata": {
    "tags": []
   },
   "outputs": [],
   "source": [
    "## The API endpoint, without https//\n",
    "apiEndpoint = \"amaaaaaangencdyav4dubl3xfd4vdxd7flcb32tothcprrq2skkhvchofbtq.opensearch.eu-frankfurt-1.oci.oraclecloud.com\"\n",
    "\n",
    "## port\n",
    "port = 9200\n",
    "\n",
    "##Credentials\n",
    "username = \"bobpeulen\"\n",
    "password = \"x\"\n",
    "\n",
    "## Name of index\n",
    "searchIndex = 'index_3'"
   ]
  },
  {
   "cell_type": "markdown",
   "id": "9864d07d-f9cf-4c5b-b640-006849b8f036",
   "metadata": {},
   "source": [
    "## **Create and ping connection**"
   ]
  },
  {
   "cell_type": "code",
   "execution_count": 9,
   "id": "6ccd44be-b926-4f30-af9a-b2ba6d6a18eb",
   "metadata": {
    "tags": []
   },
   "outputs": [
    {
     "data": {
      "text/plain": [
       "False"
      ]
     },
     "execution_count": 9,
     "metadata": {},
     "output_type": "execute_result"
    }
   ],
   "source": [
    "## The API endpoint, without https//\n",
    "apiEndpoint = \"amaaaaaangencdyav4dubl3xfd4vdxd7flcb32tothcprrq2skkhvchofbtq.opensearch.eu-frankfurt-1.oci.oraclecloud.com\"\n",
    "\n",
    "## port\n",
    "port = 9200\n",
    "\n",
    "##Credentials\n",
    "username = \"bobpeulen\"\n",
    "password = \"xxxxx\"\n",
    "\n",
    "## Name of index\n",
    "searchIndex = 'index_3'\n",
    "\n",
    "auth = (username, password)\n",
    "\n",
    "client = OpenSearch(\n",
    "    hosts = [{'host': apiEndpoint, 'port': port}],\n",
    "    http_auth = auth,\n",
    "    use_ssl = True,\n",
    "    verify_certs = True,\n",
    "    connection_class = RequestsHttpConnection,\n",
    "    pool_maxsize = 20\n",
    ")\n",
    "client.ping()"
   ]
  },
  {
   "cell_type": "markdown",
   "id": "310df5e2-99f7-494e-b06d-5feade8fdbf0",
   "metadata": {},
   "source": [
    "## **Create a Mapping and Index**"
   ]
  },
  {
   "cell_type": "code",
   "execution_count": 7,
   "id": "4d40001d-8af8-4757-8d35-4877e3aa234d",
   "metadata": {
    "tags": []
   },
   "outputs": [
    {
     "ename": "InvalidURL",
     "evalue": "Failed to parse: https://[http://amaaaaaangencdyav4dubl3xfd4vdxd7flcb32tothcprrq2skkhvchofbtq.opensearch.eu-frankfurt-1.oci.oraclecloud.com]:9200/index_rag",
     "output_type": "error",
     "traceback": [
      "\u001b[0;31m---------------------------------------------------------------------------\u001b[0m",
      "\u001b[0;31mLocationParseError\u001b[0m                        Traceback (most recent call last)",
      "\u001b[0;32m~/conda/tensorflow28_p38_gpu_v1/lib/python3.8/site-packages/requests/models.py\u001b[0m in \u001b[0;36mprepare_url\u001b[0;34m(self, url, params)\u001b[0m\n\u001b[1;32m    433\u001b[0m         \u001b[0;32mtry\u001b[0m\u001b[0;34m:\u001b[0m\u001b[0;34m\u001b[0m\u001b[0;34m\u001b[0m\u001b[0m\n\u001b[0;32m--> 434\u001b[0;31m             \u001b[0mscheme\u001b[0m\u001b[0;34m,\u001b[0m \u001b[0mauth\u001b[0m\u001b[0;34m,\u001b[0m \u001b[0mhost\u001b[0m\u001b[0;34m,\u001b[0m \u001b[0mport\u001b[0m\u001b[0;34m,\u001b[0m \u001b[0mpath\u001b[0m\u001b[0;34m,\u001b[0m \u001b[0mquery\u001b[0m\u001b[0;34m,\u001b[0m \u001b[0mfragment\u001b[0m \u001b[0;34m=\u001b[0m \u001b[0mparse_url\u001b[0m\u001b[0;34m(\u001b[0m\u001b[0murl\u001b[0m\u001b[0;34m)\u001b[0m\u001b[0;34m\u001b[0m\u001b[0;34m\u001b[0m\u001b[0m\n\u001b[0m\u001b[1;32m    435\u001b[0m         \u001b[0;32mexcept\u001b[0m \u001b[0mLocationParseError\u001b[0m \u001b[0;32mas\u001b[0m \u001b[0me\u001b[0m\u001b[0;34m:\u001b[0m\u001b[0;34m\u001b[0m\u001b[0;34m\u001b[0m\u001b[0m\n",
      "\u001b[0;32m~/conda/tensorflow28_p38_gpu_v1/lib/python3.8/site-packages/urllib3/util/url.py\u001b[0m in \u001b[0;36mparse_url\u001b[0;34m(url)\u001b[0m\n\u001b[1;32m    396\u001b[0m     \u001b[0;32mexcept\u001b[0m \u001b[0;34m(\u001b[0m\u001b[0mValueError\u001b[0m\u001b[0;34m,\u001b[0m \u001b[0mAttributeError\u001b[0m\u001b[0;34m)\u001b[0m\u001b[0;34m:\u001b[0m\u001b[0;34m\u001b[0m\u001b[0;34m\u001b[0m\u001b[0m\n\u001b[0;32m--> 397\u001b[0;31m         \u001b[0;32mreturn\u001b[0m \u001b[0msix\u001b[0m\u001b[0;34m.\u001b[0m\u001b[0mraise_from\u001b[0m\u001b[0;34m(\u001b[0m\u001b[0mLocationParseError\u001b[0m\u001b[0;34m(\u001b[0m\u001b[0msource_url\u001b[0m\u001b[0;34m)\u001b[0m\u001b[0;34m,\u001b[0m \u001b[0;32mNone\u001b[0m\u001b[0;34m)\u001b[0m\u001b[0;34m\u001b[0m\u001b[0;34m\u001b[0m\u001b[0m\n\u001b[0m\u001b[1;32m    398\u001b[0m \u001b[0;34m\u001b[0m\u001b[0m\n",
      "\u001b[0;32m~/conda/tensorflow28_p38_gpu_v1/lib/python3.8/site-packages/urllib3/packages/six.py\u001b[0m in \u001b[0;36mraise_from\u001b[0;34m(value, from_value)\u001b[0m\n",
      "\u001b[0;31mLocationParseError\u001b[0m: Failed to parse: https://[http://amaaaaaangencdyav4dubl3xfd4vdxd7flcb32tothcprrq2skkhvchofbtq.opensearch.eu-frankfurt-1.oci.oraclecloud.com]:9200/index_rag",
      "\nDuring handling of the above exception, another exception occurred:\n",
      "\u001b[0;31mInvalidURL\u001b[0m                                Traceback (most recent call last)",
      "\u001b[0;32m/tmp/ipykernel_2268/4290886819.py\u001b[0m in \u001b[0;36m<cell line: 20>\u001b[0;34m()\u001b[0m\n\u001b[1;32m     18\u001b[0m }\n\u001b[1;32m     19\u001b[0m \u001b[0;34m\u001b[0m\u001b[0m\n\u001b[0;32m---> 20\u001b[0;31m \u001b[0mresponse\u001b[0m \u001b[0;34m=\u001b[0m \u001b[0mclient\u001b[0m\u001b[0;34m.\u001b[0m\u001b[0mindices\u001b[0m\u001b[0;34m.\u001b[0m\u001b[0mcreate\u001b[0m\u001b[0;34m(\u001b[0m\u001b[0;34m'index_rag'\u001b[0m\u001b[0;34m,\u001b[0m \u001b[0mbody\u001b[0m\u001b[0;34m=\u001b[0m\u001b[0mindex_body\u001b[0m\u001b[0;34m)\u001b[0m\u001b[0;34m\u001b[0m\u001b[0;34m\u001b[0m\u001b[0m\n\u001b[0m\u001b[1;32m     21\u001b[0m \u001b[0mprint\u001b[0m\u001b[0;34m(\u001b[0m\u001b[0mresponse\u001b[0m\u001b[0;34m)\u001b[0m\u001b[0;34m\u001b[0m\u001b[0;34m\u001b[0m\u001b[0m\n",
      "\u001b[0;32m~/conda/tensorflow28_p38_gpu_v1/lib/python3.8/site-packages/opensearchpy/client/utils.py\u001b[0m in \u001b[0;36m_wrapped\u001b[0;34m(*args, **kwargs)\u001b[0m\n\u001b[1;32m    178\u001b[0m                         \u001b[0mparams\u001b[0m\u001b[0;34m[\u001b[0m\u001b[0mp\u001b[0m\u001b[0;34m]\u001b[0m \u001b[0;34m=\u001b[0m \u001b[0m_escape\u001b[0m\u001b[0;34m(\u001b[0m\u001b[0mv\u001b[0m\u001b[0;34m)\u001b[0m\u001b[0;34m\u001b[0m\u001b[0;34m\u001b[0m\u001b[0m\n\u001b[1;32m    179\u001b[0m \u001b[0;34m\u001b[0m\u001b[0m\n\u001b[0;32m--> 180\u001b[0;31m             \u001b[0;32mreturn\u001b[0m \u001b[0mfunc\u001b[0m\u001b[0;34m(\u001b[0m\u001b[0;34m*\u001b[0m\u001b[0margs\u001b[0m\u001b[0;34m,\u001b[0m \u001b[0mparams\u001b[0m\u001b[0;34m=\u001b[0m\u001b[0mparams\u001b[0m\u001b[0;34m,\u001b[0m \u001b[0mheaders\u001b[0m\u001b[0;34m=\u001b[0m\u001b[0mheaders\u001b[0m\u001b[0;34m,\u001b[0m \u001b[0;34m**\u001b[0m\u001b[0mkwargs\u001b[0m\u001b[0;34m)\u001b[0m\u001b[0;34m\u001b[0m\u001b[0;34m\u001b[0m\u001b[0m\n\u001b[0m\u001b[1;32m    181\u001b[0m \u001b[0;34m\u001b[0m\u001b[0m\n\u001b[1;32m    182\u001b[0m         \u001b[0;32mreturn\u001b[0m \u001b[0m_wrapped\u001b[0m\u001b[0;34m\u001b[0m\u001b[0;34m\u001b[0m\u001b[0m\n",
      "\u001b[0;32m~/conda/tensorflow28_p38_gpu_v1/lib/python3.8/site-packages/opensearchpy/client/indices.py\u001b[0m in \u001b[0;36mcreate\u001b[0;34m(self, index, body, params, headers)\u001b[0m\n\u001b[1;32m    162\u001b[0m             \u001b[0;32mraise\u001b[0m \u001b[0mValueError\u001b[0m\u001b[0;34m(\u001b[0m\u001b[0;34m\"Empty value passed for a required argument 'index'.\"\u001b[0m\u001b[0;34m)\u001b[0m\u001b[0;34m\u001b[0m\u001b[0;34m\u001b[0m\u001b[0m\n\u001b[1;32m    163\u001b[0m \u001b[0;34m\u001b[0m\u001b[0m\n\u001b[0;32m--> 164\u001b[0;31m         return self.transport.perform_request(\n\u001b[0m\u001b[1;32m    165\u001b[0m             \u001b[0;34m\"PUT\"\u001b[0m\u001b[0;34m,\u001b[0m \u001b[0m_make_path\u001b[0m\u001b[0;34m(\u001b[0m\u001b[0mindex\u001b[0m\u001b[0;34m)\u001b[0m\u001b[0;34m,\u001b[0m \u001b[0mparams\u001b[0m\u001b[0;34m=\u001b[0m\u001b[0mparams\u001b[0m\u001b[0;34m,\u001b[0m \u001b[0mheaders\u001b[0m\u001b[0;34m=\u001b[0m\u001b[0mheaders\u001b[0m\u001b[0;34m,\u001b[0m \u001b[0mbody\u001b[0m\u001b[0;34m=\u001b[0m\u001b[0mbody\u001b[0m\u001b[0;34m\u001b[0m\u001b[0;34m\u001b[0m\u001b[0m\n\u001b[1;32m    166\u001b[0m         )\n",
      "\u001b[0;32m~/conda/tensorflow28_p38_gpu_v1/lib/python3.8/site-packages/opensearchpy/transport.py\u001b[0m in \u001b[0;36mperform_request\u001b[0;34m(self, method, url, params, body, timeout, ignore, headers)\u001b[0m\n\u001b[1;32m    406\u001b[0m \u001b[0;34m\u001b[0m\u001b[0m\n\u001b[1;32m    407\u001b[0m             \u001b[0;32mtry\u001b[0m\u001b[0;34m:\u001b[0m\u001b[0;34m\u001b[0m\u001b[0;34m\u001b[0m\u001b[0m\n\u001b[0;32m--> 408\u001b[0;31m                 status, headers_response, data = connection.perform_request(\n\u001b[0m\u001b[1;32m    409\u001b[0m                     \u001b[0mmethod\u001b[0m\u001b[0;34m,\u001b[0m\u001b[0;34m\u001b[0m\u001b[0;34m\u001b[0m\u001b[0m\n\u001b[1;32m    410\u001b[0m                     \u001b[0murl\u001b[0m\u001b[0;34m,\u001b[0m\u001b[0;34m\u001b[0m\u001b[0;34m\u001b[0m\u001b[0m\n",
      "\u001b[0;32m~/conda/tensorflow28_p38_gpu_v1/lib/python3.8/site-packages/opensearchpy/connection/http_requests.py\u001b[0m in \u001b[0;36mperform_request\u001b[0;34m(self, method, url, params, body, timeout, allow_redirects, ignore, headers)\u001b[0m\n\u001b[1;32m    179\u001b[0m         \u001b[0mstart\u001b[0m \u001b[0;34m=\u001b[0m \u001b[0mtime\u001b[0m\u001b[0;34m.\u001b[0m\u001b[0mtime\u001b[0m\u001b[0;34m(\u001b[0m\u001b[0;34m)\u001b[0m\u001b[0;34m\u001b[0m\u001b[0;34m\u001b[0m\u001b[0m\n\u001b[1;32m    180\u001b[0m         \u001b[0mrequest\u001b[0m \u001b[0;34m=\u001b[0m \u001b[0mrequests\u001b[0m\u001b[0;34m.\u001b[0m\u001b[0mRequest\u001b[0m\u001b[0;34m(\u001b[0m\u001b[0mmethod\u001b[0m\u001b[0;34m=\u001b[0m\u001b[0mmethod\u001b[0m\u001b[0;34m,\u001b[0m \u001b[0mheaders\u001b[0m\u001b[0;34m=\u001b[0m\u001b[0mheaders\u001b[0m\u001b[0;34m,\u001b[0m \u001b[0murl\u001b[0m\u001b[0;34m=\u001b[0m\u001b[0murl\u001b[0m\u001b[0;34m,\u001b[0m \u001b[0mdata\u001b[0m\u001b[0;34m=\u001b[0m\u001b[0mbody\u001b[0m\u001b[0;34m)\u001b[0m\u001b[0;34m\u001b[0m\u001b[0;34m\u001b[0m\u001b[0m\n\u001b[0;32m--> 181\u001b[0;31m         \u001b[0mprepared_request\u001b[0m \u001b[0;34m=\u001b[0m \u001b[0mself\u001b[0m\u001b[0;34m.\u001b[0m\u001b[0msession\u001b[0m\u001b[0;34m.\u001b[0m\u001b[0mprepare_request\u001b[0m\u001b[0;34m(\u001b[0m\u001b[0mrequest\u001b[0m\u001b[0;34m)\u001b[0m\u001b[0;34m\u001b[0m\u001b[0;34m\u001b[0m\u001b[0m\n\u001b[0m\u001b[1;32m    182\u001b[0m         settings = self.session.merge_environment_settings(\n\u001b[1;32m    183\u001b[0m             \u001b[0mprepared_request\u001b[0m\u001b[0;34m.\u001b[0m\u001b[0murl\u001b[0m\u001b[0;34m,\u001b[0m \u001b[0;34m{\u001b[0m\u001b[0;34m}\u001b[0m\u001b[0;34m,\u001b[0m \u001b[0;32mNone\u001b[0m\u001b[0;34m,\u001b[0m \u001b[0;32mNone\u001b[0m\u001b[0;34m,\u001b[0m \u001b[0;32mNone\u001b[0m\u001b[0;34m\u001b[0m\u001b[0;34m\u001b[0m\u001b[0m\n",
      "\u001b[0;32m~/conda/tensorflow28_p38_gpu_v1/lib/python3.8/site-packages/requests/sessions.py\u001b[0m in \u001b[0;36mprepare_request\u001b[0;34m(self, request)\u001b[0m\n\u001b[1;32m    484\u001b[0m \u001b[0;34m\u001b[0m\u001b[0m\n\u001b[1;32m    485\u001b[0m         \u001b[0mp\u001b[0m \u001b[0;34m=\u001b[0m \u001b[0mPreparedRequest\u001b[0m\u001b[0;34m(\u001b[0m\u001b[0;34m)\u001b[0m\u001b[0;34m\u001b[0m\u001b[0;34m\u001b[0m\u001b[0m\n\u001b[0;32m--> 486\u001b[0;31m         p.prepare(\n\u001b[0m\u001b[1;32m    487\u001b[0m             \u001b[0mmethod\u001b[0m\u001b[0;34m=\u001b[0m\u001b[0mrequest\u001b[0m\u001b[0;34m.\u001b[0m\u001b[0mmethod\u001b[0m\u001b[0;34m.\u001b[0m\u001b[0mupper\u001b[0m\u001b[0;34m(\u001b[0m\u001b[0;34m)\u001b[0m\u001b[0;34m,\u001b[0m\u001b[0;34m\u001b[0m\u001b[0;34m\u001b[0m\u001b[0m\n\u001b[1;32m    488\u001b[0m             \u001b[0murl\u001b[0m\u001b[0;34m=\u001b[0m\u001b[0mrequest\u001b[0m\u001b[0;34m.\u001b[0m\u001b[0murl\u001b[0m\u001b[0;34m,\u001b[0m\u001b[0;34m\u001b[0m\u001b[0;34m\u001b[0m\u001b[0m\n",
      "\u001b[0;32m~/conda/tensorflow28_p38_gpu_v1/lib/python3.8/site-packages/requests/models.py\u001b[0m in \u001b[0;36mprepare\u001b[0;34m(self, method, url, headers, files, data, params, auth, cookies, hooks, json)\u001b[0m\n\u001b[1;32m    366\u001b[0m \u001b[0;34m\u001b[0m\u001b[0m\n\u001b[1;32m    367\u001b[0m         \u001b[0mself\u001b[0m\u001b[0;34m.\u001b[0m\u001b[0mprepare_method\u001b[0m\u001b[0;34m(\u001b[0m\u001b[0mmethod\u001b[0m\u001b[0;34m)\u001b[0m\u001b[0;34m\u001b[0m\u001b[0;34m\u001b[0m\u001b[0m\n\u001b[0;32m--> 368\u001b[0;31m         \u001b[0mself\u001b[0m\u001b[0;34m.\u001b[0m\u001b[0mprepare_url\u001b[0m\u001b[0;34m(\u001b[0m\u001b[0murl\u001b[0m\u001b[0;34m,\u001b[0m \u001b[0mparams\u001b[0m\u001b[0;34m)\u001b[0m\u001b[0;34m\u001b[0m\u001b[0;34m\u001b[0m\u001b[0m\n\u001b[0m\u001b[1;32m    369\u001b[0m         \u001b[0mself\u001b[0m\u001b[0;34m.\u001b[0m\u001b[0mprepare_headers\u001b[0m\u001b[0;34m(\u001b[0m\u001b[0mheaders\u001b[0m\u001b[0;34m)\u001b[0m\u001b[0;34m\u001b[0m\u001b[0;34m\u001b[0m\u001b[0m\n\u001b[1;32m    370\u001b[0m         \u001b[0mself\u001b[0m\u001b[0;34m.\u001b[0m\u001b[0mprepare_cookies\u001b[0m\u001b[0;34m(\u001b[0m\u001b[0mcookies\u001b[0m\u001b[0;34m)\u001b[0m\u001b[0;34m\u001b[0m\u001b[0;34m\u001b[0m\u001b[0m\n",
      "\u001b[0;32m~/conda/tensorflow28_p38_gpu_v1/lib/python3.8/site-packages/requests/models.py\u001b[0m in \u001b[0;36mprepare_url\u001b[0;34m(self, url, params)\u001b[0m\n\u001b[1;32m    434\u001b[0m             \u001b[0mscheme\u001b[0m\u001b[0;34m,\u001b[0m \u001b[0mauth\u001b[0m\u001b[0;34m,\u001b[0m \u001b[0mhost\u001b[0m\u001b[0;34m,\u001b[0m \u001b[0mport\u001b[0m\u001b[0;34m,\u001b[0m \u001b[0mpath\u001b[0m\u001b[0;34m,\u001b[0m \u001b[0mquery\u001b[0m\u001b[0;34m,\u001b[0m \u001b[0mfragment\u001b[0m \u001b[0;34m=\u001b[0m \u001b[0mparse_url\u001b[0m\u001b[0;34m(\u001b[0m\u001b[0murl\u001b[0m\u001b[0;34m)\u001b[0m\u001b[0;34m\u001b[0m\u001b[0;34m\u001b[0m\u001b[0m\n\u001b[1;32m    435\u001b[0m         \u001b[0;32mexcept\u001b[0m \u001b[0mLocationParseError\u001b[0m \u001b[0;32mas\u001b[0m \u001b[0me\u001b[0m\u001b[0;34m:\u001b[0m\u001b[0;34m\u001b[0m\u001b[0;34m\u001b[0m\u001b[0m\n\u001b[0;32m--> 436\u001b[0;31m             \u001b[0;32mraise\u001b[0m \u001b[0mInvalidURL\u001b[0m\u001b[0;34m(\u001b[0m\u001b[0;34m*\u001b[0m\u001b[0me\u001b[0m\u001b[0;34m.\u001b[0m\u001b[0margs\u001b[0m\u001b[0;34m)\u001b[0m\u001b[0;34m\u001b[0m\u001b[0;34m\u001b[0m\u001b[0m\n\u001b[0m\u001b[1;32m    437\u001b[0m \u001b[0;34m\u001b[0m\u001b[0m\n\u001b[1;32m    438\u001b[0m         \u001b[0;32mif\u001b[0m \u001b[0;32mnot\u001b[0m \u001b[0mscheme\u001b[0m\u001b[0;34m:\u001b[0m\u001b[0;34m\u001b[0m\u001b[0;34m\u001b[0m\u001b[0m\n",
      "\u001b[0;31mInvalidURL\u001b[0m: Failed to parse: https://[http://amaaaaaangencdyav4dubl3xfd4vdxd7flcb32tothcprrq2skkhvchofbtq.opensearch.eu-frankfurt-1.oci.oraclecloud.com]:9200/index_rag"
     ]
    }
   ],
   "source": [
    "index_body = {\n",
    "  'settings': {\n",
    "    \"index.knn\": True\n",
    "  },\n",
    "  \"mappings\": {\n",
    "    \"properties\": {\n",
    "      \"osha_vector\": {\n",
    "        \"type\": \"knn_vector\",\n",
    "        \"dimension\": 1536,\n",
    "        \"method\": {\n",
    "          \"engine\": \"faiss\",\n",
    "          \"name\": \"hnsw\",\n",
    "          \"space_type\": \"l2\"\n",
    "        }\n",
    "      }\n",
    "    }\n",
    "  }\n",
    "}\n",
    "\n",
    "response = client.indices.create('index_rag', body=index_body)\n",
    "print(response)"
   ]
  },
  {
   "cell_type": "markdown",
   "id": "25ec3621-9705-460b-89d2-2298e4cdcd8c",
   "metadata": {},
   "source": [
    "## **See all indexes**"
   ]
  },
  {
   "cell_type": "code",
   "execution_count": 53,
   "id": "7911d363-3fa3-4d55-85f0-4183faa2219a",
   "metadata": {
    "tags": []
   },
   "outputs": [
    {
     "data": {
      "text/plain": [
       "{'index_1': {'aliases': {}},\n",
       " 'index_2': {'aliases': {}},\n",
       " 'index_3': {'aliases': {}},\n",
       " '.plugins-ml-config': {'aliases': {}},\n",
       " 'opensearch-self-query-demo': {'aliases': {}},\n",
       " 'oci_security': {'aliases': {}},\n",
       " 'oci': {'aliases': {}},\n",
       " 'oci_ilm': {'aliases': {}},\n",
       " 'index_rag': {'aliases': {}},\n",
       " 'oci4': {'aliases': {}},\n",
       " '.kibana_1': {'aliases': {'.kibana': {}}}}"
      ]
     },
     "execution_count": 53,
     "metadata": {},
     "output_type": "execute_result"
    }
   ],
   "source": [
    "client.indices.get_alias(index=\"*\")"
   ]
  },
  {
   "cell_type": "code",
   "execution_count": null,
   "id": "dbf23528-4455-4961-9f04-906658616c6b",
   "metadata": {},
   "outputs": [],
   "source": []
  },
  {
   "cell_type": "markdown",
   "id": "0afe20be-dfd8-4241-afbe-336097a055a4",
   "metadata": {},
   "source": [
    "## **Define embedding model**"
   ]
  },
  {
   "cell_type": "code",
   "execution_count": 16,
   "id": "9e293c80-ee87-42d0-8101-db20361dcc30",
   "metadata": {
    "tags": []
   },
   "outputs": [
    {
     "data": {
      "application/vnd.jupyter.widget-view+json": {
       "model_id": "49bf99a2e2284a92b26f6fdd9f1d596d",
       "version_major": 2,
       "version_minor": 0
      },
      "text/plain": [
       "modules.json:   0%|          | 0.00/349 [00:00<?, ?B/s]"
      ]
     },
     "metadata": {},
     "output_type": "display_data"
    },
    {
     "data": {
      "application/vnd.jupyter.widget-view+json": {
       "model_id": "0071ba6a70344e0495d5f12621f2d24f",
       "version_major": 2,
       "version_minor": 0
      },
      "text/plain": [
       "config_sentence_transformers.json:   0%|          | 0.00/116 [00:00<?, ?B/s]"
      ]
     },
     "metadata": {},
     "output_type": "display_data"
    },
    {
     "data": {
      "application/vnd.jupyter.widget-view+json": {
       "model_id": "b085d1af10454d049e0e4a86dc335a45",
       "version_major": 2,
       "version_minor": 0
      },
      "text/plain": [
       "README.md:   0%|          | 0.00/10.6k [00:00<?, ?B/s]"
      ]
     },
     "metadata": {},
     "output_type": "display_data"
    },
    {
     "data": {
      "application/vnd.jupyter.widget-view+json": {
       "model_id": "c154795a3a264589a375c97d1a708ea9",
       "version_major": 2,
       "version_minor": 0
      },
      "text/plain": [
       "sentence_bert_config.json:   0%|          | 0.00/53.0 [00:00<?, ?B/s]"
      ]
     },
     "metadata": {},
     "output_type": "display_data"
    },
    {
     "data": {
      "application/vnd.jupyter.widget-view+json": {
       "model_id": "1515680b8a8c4cb89e371f95f489e6bd",
       "version_major": 2,
       "version_minor": 0
      },
      "text/plain": [
       "config.json:   0%|          | 0.00/571 [00:00<?, ?B/s]"
      ]
     },
     "metadata": {},
     "output_type": "display_data"
    },
    {
     "data": {
      "application/vnd.jupyter.widget-view+json": {
       "model_id": "999debb96fa54ec8b9c777409c7717b9",
       "version_major": 2,
       "version_minor": 0
      },
      "text/plain": [
       "model.safetensors:   0%|          | 0.00/438M [00:00<?, ?B/s]"
      ]
     },
     "metadata": {},
     "output_type": "display_data"
    },
    {
     "data": {
      "application/vnd.jupyter.widget-view+json": {
       "model_id": "eb5d2f5efd8d4f13847cb96ffb36985e",
       "version_major": 2,
       "version_minor": 0
      },
      "text/plain": [
       "tokenizer_config.json:   0%|          | 0.00/363 [00:00<?, ?B/s]"
      ]
     },
     "metadata": {},
     "output_type": "display_data"
    },
    {
     "data": {
      "application/vnd.jupyter.widget-view+json": {
       "model_id": "1a413923e5fa4dff84118188c26df253",
       "version_major": 2,
       "version_minor": 0
      },
      "text/plain": [
       "vocab.txt:   0%|          | 0.00/232k [00:00<?, ?B/s]"
      ]
     },
     "metadata": {},
     "output_type": "display_data"
    },
    {
     "data": {
      "application/vnd.jupyter.widget-view+json": {
       "model_id": "748489b33262451788dedfa113aec875",
       "version_major": 2,
       "version_minor": 0
      },
      "text/plain": [
       "tokenizer.json:   0%|          | 0.00/466k [00:00<?, ?B/s]"
      ]
     },
     "metadata": {},
     "output_type": "display_data"
    },
    {
     "data": {
      "application/vnd.jupyter.widget-view+json": {
       "model_id": "069cf16071904fe1825422c2523369a3",
       "version_major": 2,
       "version_minor": 0
      },
      "text/plain": [
       "special_tokens_map.json:   0%|          | 0.00/239 [00:00<?, ?B/s]"
      ]
     },
     "metadata": {},
     "output_type": "display_data"
    },
    {
     "data": {
      "application/vnd.jupyter.widget-view+json": {
       "model_id": "44cb9f6dacb249909a8ab460e9f6a842",
       "version_major": 2,
       "version_minor": 0
      },
      "text/plain": [
       "1_Pooling/config.json:   0%|          | 0.00/190 [00:00<?, ?B/s]"
      ]
     },
     "metadata": {},
     "output_type": "display_data"
    }
   ],
   "source": [
    "embeddings = HuggingFaceEmbeddings()"
   ]
  },
  {
   "cell_type": "markdown",
   "id": "6b150115-f700-4d8b-9743-1fe0d219070d",
   "metadata": {},
   "source": [
    "## **Integrate Opensearch as vector db and the HuggingFace embedding model**"
   ]
  },
  {
   "cell_type": "code",
   "execution_count": 17,
   "id": "c5d36c9d-f008-4cae-9fcd-42d99fd2b72a",
   "metadata": {
    "tags": []
   },
   "outputs": [],
   "source": [
    "\n",
    "vector = OpenSearchVectorSearch(\n",
    "  embedding_function = embeddings,\n",
    "  index_name = 'index_rag',\n",
    "  http_auth = auth,\n",
    "  use_ssl = True,\n",
    "  verify_certs = True,\n",
    "  connection_class = RequestsHttpConnection,\n",
    "  opensearch_url = \"http://\" + apiEndpoint\n",
    ")\n",
    "\n",
    "\n",
    "retriever = vector.as_retriever()"
   ]
  },
  {
   "cell_type": "markdown",
   "id": "bbaa4933-ac25-4359-bc68-369e2158f24a",
   "metadata": {},
   "source": [
    "### **Add custom script to store question in a different index**"
   ]
  },
  {
   "cell_type": "markdown",
   "id": "b75b98d4-1a93-4b8e-97e0-793269602d07",
   "metadata": {
    "tags": []
   },
   "source": [
    "## **Add data/vector to the Opensearch cluster**"
   ]
  },
  {
   "cell_type": "code",
   "execution_count": 24,
   "id": "0155a17a-f5cf-4e4a-9504-6492fad5ab1c",
   "metadata": {
    "tags": []
   },
   "outputs": [],
   "source": [
    "docs = [\n",
    "    Document(\n",
    "        page_content=\"A bunch of scientists bring back dinosaurs and mayhem breaks loose\",\n",
    "        metadata={\"year\": 1993, \"rating\": 7.7, \"genre\": \"science fiction\"},\n",
    "    ),\n",
    "    Document(\n",
    "        page_content=\"Leo DiCaprio gets lost in a dream within a dream within a dream within a ...\",\n",
    "        metadata={\"year\": 2010, \"director\": \"Christopher Nolan\", \"rating\": 8.2},\n",
    "    ),\n",
    "    Document(\n",
    "        page_content=\"A psychologist / detective gets lost in a series of dreams within dreams within dreams and Inception reused the idea\",\n",
    "        metadata={\"year\": 2006, \"director\": \"Satoshi Kon\", \"rating\": 8.6},\n",
    "    ),\n",
    "    Document(\n",
    "        page_content=\"A bunch of normal-sized women are supremely wholesome and some men pine after them\",\n",
    "        metadata={\"year\": 2019, \"director\": \"Greta Gerwig\", \"rating\": 8.3},\n",
    "    ),\n",
    "    Document(\n",
    "        page_content=\"Toys come alive and have a blast doing so\",\n",
    "        metadata={\"year\": 1995, \"genre\": \"animated\"},\n",
    "    ),\n",
    "    Document(\n",
    "        page_content=\"Three men walk into the Zone, three men walk out of the Zone\",\n",
    "        metadata={\"year\": 1979, \"rating\": 9.9, \"director\": \"Andrei Tarkovsky\", \"genre\": \"science fiction\"},\n",
    "    ),\n",
    "]"
   ]
  },
  {
   "cell_type": "code",
   "execution_count": 26,
   "id": "cc7e9dd6-ac91-4e8b-b66b-002636296caf",
   "metadata": {
    "tags": []
   },
   "outputs": [],
   "source": [
    "vectorstore = OpenSearchVectorSearch.from_documents(\n",
    "    docs,\n",
    "    embeddings,\n",
    "    index_name=\"opensearch-self-query-demo\",\n",
    "    http_auth = auth,\n",
    "    use_ssl = True,\n",
    "    verify_certs = True,\n",
    "    connection_class = RequestsHttpConnection,\n",
    "    opensearch_url = \"http://\" + apiEndpoint\n",
    ")"
   ]
  },
  {
   "cell_type": "code",
   "execution_count": 35,
   "id": "72e8cc30-91cd-4a89-8308-19fed214baa3",
   "metadata": {
    "tags": []
   },
   "outputs": [
    {
     "data": {
      "text/plain": [
       "[Document(page_content='Toys come alive and have a blast doing so', metadata={'year': 1995, 'genre': 'animated'}),\n",
       " Document(page_content='Three men walk into the Zone, three men walk out of the Zone', metadata={'year': 1979, 'rating': 9.9, 'director': 'Andrei Tarkovsky', 'genre': 'science fiction'}),\n",
       " Document(page_content='A bunch of normal-sized women are supremely wholesome and some men pine after them', metadata={'year': 2019, 'director': 'Greta Gerwig', 'rating': 8.3}),\n",
       " Document(page_content='A bunch of scientists bring back dinosaurs and mayhem breaks loose', metadata={'year': 1993, 'rating': 7.7, 'genre': 'science fiction'})]"
      ]
     },
     "execution_count": 35,
     "metadata": {},
     "output_type": "execute_result"
    }
   ],
   "source": [
    "vectorstore.similarity_search(query = \"seems to work? animals\", k=2)"
   ]
  },
  {
   "cell_type": "markdown",
   "id": "09b72605-3c9b-479e-93d5-5aeb5dfe4f60",
   "metadata": {},
   "source": [
    "## **Full RAG: GenAI**"
   ]
  },
  {
   "cell_type": "code",
   "execution_count": 5,
   "id": "c01322f8-fd56-4452-90af-c3e57bc1b5e9",
   "metadata": {
    "tags": []
   },
   "outputs": [
    {
     "name": "stdout",
     "output_type": "stream",
     "text": [
      "{'query': 'what is the capital of france?', 'text': \" The capital of France is Paris. Paris is France's largest city and serves as the country's political, cultural, and commercial center. It is located in the north-central part of France, on the River Seine, and is known for its history, architecture, and artistic heritage. \\n\\nWould you like to know more about Paris? \"}\n"
     ]
    }
   ],
   "source": [
    "from langchain.chains import LLMChain\n",
    "from langchain_core.prompts import PromptTemplate\n",
    "from langchain.schema.runnable import RunnablePassthrough\n",
    "\n",
    "compartment_id=\"ocid1.compartment.oc1..aaaaaaaae3n6r6hrjipbap2hojicrsvkzatrtlwvsyrpyjd7wjnw4za3m75q\"\n",
    "\n",
    "# Use Session Token to authN\n",
    "llm = OCIGenAI(\n",
    "    model_id=\"cohere.command\",\n",
    "    service_endpoint=\"https://inference.generativeai.us-chicago-1.oci.oraclecloud.com\",\n",
    "    compartment_id=compartment_id,\n",
    "    model_kwargs = {\"max_tokens\":1024},\n",
    "    verbose=False\n",
    ")\n",
    "\n",
    "prompt = PromptTemplate(input_variables=[\"query\"], template=\"{query}\")\n",
    "\n",
    "llm_chain = LLMChain(llm=llm, prompt=prompt)\n",
    "\n",
    "response = llm_chain.invoke(\"what is the capital of france?\")\n",
    "print(response)"
   ]
  },
  {
   "cell_type": "code",
   "execution_count": null,
   "id": "cb688999-18f8-4620-8c06-081cbe3933b5",
   "metadata": {},
   "outputs": [],
   "source": [
    "\n",
    "\n",
    "\n",
    "template = \"\"\"Answer the question based only on the following context:\n",
    "{context}\n",
    " \n",
    "Question: {question}\n",
    "\"\"\"\n",
    "prompt = PromptTemplate.from_template(template)\n",
    "\n",
    "\n",
    "chain = (\n",
    "    {\"context\": retriever, \"question\": RunnablePassthrough()}\n",
    "    | prompt\n",
    "    | llm\n",
    "    | StrOutputParser()\n",
    ")\n",
    "\n",
    "print(chain.invoke(\"when was oracle founded?\"))"
   ]
  },
  {
   "cell_type": "code",
   "execution_count": null,
   "id": "a7913c0a-19b1-4461-84f0-043487cf4c5c",
   "metadata": {},
   "outputs": [],
   "source": []
  },
  {
   "cell_type": "code",
   "execution_count": null,
   "id": "d6ed05e6-2594-464f-a190-334681ffbddf",
   "metadata": {},
   "outputs": [],
   "source": []
  },
  {
   "cell_type": "code",
   "execution_count": null,
   "id": "46eeaed5-105f-4c4c-8281-fa98a3ed1ce4",
   "metadata": {},
   "outputs": [],
   "source": []
  },
  {
   "cell_type": "markdown",
   "id": "a824668a-fbd4-45bf-8037-8e20a2c5a6e0",
   "metadata": {},
   "source": [
    "### OCI Data Science - Useful Tips\n",
    "<details>\n",
    "<summary><font size=\"2\">Check for Public Internet Access</font></summary>\n",
    "\n",
    "```python\n",
    "import requests\n",
    "response = requests.get(\"https://oracle.com\")\n",
    "assert response.status_code==200, \"Internet connection failed\"\n",
    "```\n",
    "</details>\n",
    "<details>\n",
    "<summary><font size=\"2\">Helpful Documentation </font></summary>\n",
    "<ul><li><a href=\"https://docs.cloud.oracle.com/en-us/iaas/data-science/using/data-science.htm\">Data Science Service Documentation</a></li>\n",
    "<li><a href=\"https://docs.cloud.oracle.com/iaas/tools/ads-sdk/latest/index.html\">ADS documentation</a></li>\n",
    "</ul>\n",
    "</details>\n",
    "<details>\n",
    "<summary><font size=\"2\">Typical Cell Imports and Settings for ADS</font></summary>\n",
    "\n",
    "```python\n",
    "%load_ext autoreload\n",
    "%autoreload 2\n",
    "%matplotlib inline\n",
    "\n",
    "import warnings\n",
    "warnings.filterwarnings('ignore')\n",
    "\n",
    "import logging\n",
    "logging.basicConfig(format='%(levelname)s:%(message)s', level=logging.ERROR)\n",
    "\n",
    "import ads\n",
    "from ads.dataset.factory import DatasetFactory\n",
    "from ads.automl.provider import OracleAutoMLProvider\n",
    "from ads.automl.driver import AutoML\n",
    "from ads.evaluations.evaluator import ADSEvaluator\n",
    "from ads.common.data import ADSData\n",
    "from ads.explanations.explainer import ADSExplainer\n",
    "from ads.explanations.mlx_global_explainer import MLXGlobalExplainer\n",
    "from ads.explanations.mlx_local_explainer import MLXLocalExplainer\n",
    "from ads.catalog.model import ModelCatalog\n",
    "from ads.common.model_artifact import ModelArtifact\n",
    "```\n",
    "</details>\n",
    "<details>\n",
    "<summary><font size=\"2\">Useful Environment Variables</font></summary>\n",
    "\n",
    "```python\n",
    "import os\n",
    "print(os.environ[\"NB_SESSION_COMPARTMENT_OCID\"])\n",
    "print(os.environ[\"PROJECT_OCID\"])\n",
    "print(os.environ[\"USER_OCID\"])\n",
    "print(os.environ[\"TENANCY_OCID\"])\n",
    "print(os.environ[\"NB_REGION\"])\n",
    "```\n",
    "</details>"
   ]
  },
  {
   "cell_type": "code",
   "execution_count": 18,
   "id": "8f32d1a4-c20b-4080-afcf-74e67aba2cc9",
   "metadata": {
    "tags": []
   },
   "outputs": [],
   "source": [
    "#!pip install opensearch-py"
   ]
  },
  {
   "cell_type": "markdown",
   "id": "e9f2d9ba-0302-4aeb-a07a-c0a02d4e649b",
   "metadata": {},
   "source": [
    "## **Create a notebook session in the same Private Subnet as the OCI Search with OpenSearch cluster**"
   ]
  },
  {
   "cell_type": "code",
   "execution_count": 1,
   "id": "6d8dbd71-31b8-421a-9569-791ac09152bd",
   "metadata": {
    "tags": []
   },
   "outputs": [],
   "source": [
    "import requests"
   ]
  },
  {
   "cell_type": "code",
   "execution_count": 2,
   "id": "1d344ec4-6b12-4f43-8d5e-71d04cfcbc11",
   "metadata": {
    "tags": []
   },
   "outputs": [],
   "source": [
    "searchIndex = 'index_3'\n",
    "apiEndpoint = \"https://amaaaaaangencdyaqhkmbdwh55qlb22dbbouezyxoezj4ivzf4pirlkl6vsa.opensearch.eu-frankfurt-1.oci.oraclecloud.com:9200\"\n",
    "username = \"bobpeulen\"\n",
    "password = \"xx\""
   ]
  },
  {
   "cell_type": "markdown",
   "id": "7d46d89d-fb37-46e8-a704-ad44a16f312e",
   "metadata": {
    "tags": []
   },
   "source": [
    "## **Check connection**"
   ]
  },
  {
   "cell_type": "code",
   "execution_count": 3,
   "id": "18c8114e-e744-490a-a00f-2c1e17335fd7",
   "metadata": {
    "tags": []
   },
   "outputs": [
    {
     "data": {
      "text/plain": [
       "{'cluster_name': 'amaaaaaangencdyaqhkmbdwh55qlb22dbbouezyxoezj4ivzf4pirlkl6vsa',\n",
       " 'status': 'yellow',\n",
       " 'timed_out': False,\n",
       " 'number_of_nodes': 2,\n",
       " 'number_of_data_nodes': 1,\n",
       " 'discovered_master': True,\n",
       " 'discovered_cluster_manager': True,\n",
       " 'active_primary_shards': 9,\n",
       " 'active_shards': 9,\n",
       " 'relocating_shards': 0,\n",
       " 'initializing_shards': 0,\n",
       " 'unassigned_shards': 5,\n",
       " 'delayed_unassigned_shards': 0,\n",
       " 'number_of_pending_tasks': 0,\n",
       " 'number_of_in_flight_fetch': 0,\n",
       " 'task_max_waiting_in_queue_millis': 0,\n",
       " 'active_shards_percent_as_number': 64.28571428571429}"
      ]
     },
     "execution_count": 3,
     "metadata": {},
     "output_type": "execute_result"
    }
   ],
   "source": [
    "def opensearch_check_connection(apiEndpoint, username, password):\n",
    "    auth=(username, password)\n",
    "    check_connection = apiEndpoint + '/' + \"_cluster/health?pretty\"\n",
    "    headers = {'Content-Type': 'application/x-ndjson'}\n",
    "    resp = requests.get(check_connection, auth=auth, headers=headers)\n",
    "    return resp.json()\n",
    "\n",
    "respx = opensearch_check_connection(apiEndpoint, username, password)\n",
    "respx"
   ]
  },
  {
   "cell_type": "markdown",
   "id": "c7a1e90f-a2c6-4baa-8bf3-257e7acdb235",
   "metadata": {},
   "source": [
    "## **Create a new index without schema**"
   ]
  },
  {
   "cell_type": "code",
   "execution_count": 21,
   "id": "71b4e8fc-3122-40b3-8582-542ae46cf0de",
   "metadata": {
    "tags": []
   },
   "outputs": [
    {
     "data": {
      "text/plain": [
       "{'acknowledged': True, 'shards_acknowledged': True, 'index': 'index_3'}"
      ]
     },
     "execution_count": 21,
     "metadata": {},
     "output_type": "execute_result"
    }
   ],
   "source": [
    "def opensearch_create_index(apiEndpoint, username, password, searchIndex):\n",
    "    auth=(username, password)\n",
    "    create_index_url = apiEndpoint + '/' + searchIndex\n",
    "    headers = {'Content-Type': 'application/x-ndjson'}\n",
    "    resp = requests.put(create_index_url, auth=auth, headers=headers)\n",
    "    return resp.json()\n",
    "\n",
    "respx = opensearch_create_index(apiEndpoint, username, password, searchIndex)\n",
    "respx"
   ]
  },
  {
   "cell_type": "markdown",
   "id": "07841240-071e-4061-ac37-5af51aa7c9d0",
   "metadata": {},
   "source": [
    "## **Create a new index with schema**"
   ]
  },
  {
   "cell_type": "code",
   "execution_count": 8,
   "id": "e3a884d4-84f2-440b-b26b-4e982e4a520d",
   "metadata": {
    "tags": []
   },
   "outputs": [
    {
     "name": "stdout",
     "output_type": "stream",
     "text": [
      "Overwriting mapping.json\n"
     ]
    }
   ],
   "source": [
    "%%writefile mapping.json\n",
    "{\"mappings\": {\n",
    "        \"properties\": {\n",
    "            \"sensor_id\": {\"type\": \"integer\"},\n",
    "            \"temperature\": {\"type\": \"integer\"},\n",
    "            \"humidity\": {\"type\": \"integer\"},\n",
    "            \"timestamp\": {\"type\": \"integer\"}\n",
    "        }\n",
    "    }\n",
    "}"
   ]
  },
  {
   "cell_type": "code",
   "execution_count": 9,
   "id": "894b07e6-aa1f-4f84-ad80-eb9a4361d3ae",
   "metadata": {
    "tags": []
   },
   "outputs": [
    {
     "data": {
      "text/plain": [
       "{'mappings': {'properties': {'sensor_id': {'type': 'integer'},\n",
       "   'temperature': {'type': 'integer'},\n",
       "   'humidity': {'type': 'integer'},\n",
       "   'timestamp': {'type': 'integer'}}}}"
      ]
     },
     "execution_count": 9,
     "metadata": {},
     "output_type": "execute_result"
    }
   ],
   "source": [
    "import json\n",
    "f = open('mapping.json')\n",
    "\n",
    "data = json.load(f)\n",
    "data"
   ]
  },
  {
   "cell_type": "code",
   "execution_count": 10,
   "id": "9f5c5bfa-805c-4b01-84ce-2a46fa07d23b",
   "metadata": {
    "tags": []
   },
   "outputs": [
    {
     "data": {
      "text/plain": [
       "{'error': {'root_cause': [{'type': 'not_x_content_exception',\n",
       "    'reason': 'Compressor detection can only be called on some xcontent bytes or compressed xcontent bytes'}],\n",
       "  'type': 'not_x_content_exception',\n",
       "  'reason': 'Compressor detection can only be called on some xcontent bytes or compressed xcontent bytes'},\n",
       " 'status': 500}"
      ]
     },
     "execution_count": 10,
     "metadata": {},
     "output_type": "execute_result"
    }
   ],
   "source": [
    "def opensearch_create_index(apiEndpoint, username, password, searchIndex):\n",
    "    auth=(username, password)\n",
    "    create_index_url = apiEndpoint + '/' + \"test_88\"\n",
    "    headers = {'Content-Type': 'application/x-ndjson'}\n",
    "    resp = requests.put(create_index_url, auth=auth, headers=headers, data = data)\n",
    "    return resp.json()\n",
    "\n",
    "respxxx = opensearch_create_index(apiEndpoint, username, password, searchIndex)\n",
    "respxxx"
   ]
  },
  {
   "cell_type": "code",
   "execution_count": null,
   "id": "dfb3c131-6ccf-4122-93a9-4c169850b968",
   "metadata": {},
   "outputs": [],
   "source": [
    " -XPUT https://<OpenSearch Endpoint>:<OpenSearch Port>/sensor -H 'Content-Type: application/json' -k -u osadmin:<OpenSearch Admin credential> -d @opensearch-mapping.json\n",
    "{\"acknowledged\":true,\"shards_acknowledged\":true,\"index\":\"sensor\"}"
   ]
  },
  {
   "cell_type": "code",
   "execution_count": null,
   "id": "a7648b9f-2789-4846-af5f-754a2ff4ef4a",
   "metadata": {},
   "outputs": [],
   "source": []
  },
  {
   "cell_type": "markdown",
   "id": "0e05dc87-1a76-442a-8282-b60419212168",
   "metadata": {},
   "source": [
    "## **Insert data in the index**"
   ]
  },
  {
   "cell_type": "code",
   "execution_count": 31,
   "id": "7f3326ab-98f2-409c-b8aa-165046e8abca",
   "metadata": {
    "tags": []
   },
   "outputs": [],
   "source": [
    "openSearchData = \"\"\n",
    "\n",
    "openSearchData = openSearchData + '{\"index\":{\"_index\":\"' + searchIndex + '\",\"_id\":' + str(1) + '}\\n'\n",
    "openSearchData = openSearchData + '{\"sensor_id\":' +str(55) + ',\"temperature\":' +str(22) + ',\"humidity\":' +str(5) + ',\"timestamp\":' +str(5165) + '}\\n'"
   ]
  },
  {
   "cell_type": "code",
   "execution_count": 34,
   "id": "e2b3974b-8e48-479c-9a5d-2ad1fdf037bd",
   "metadata": {
    "tags": []
   },
   "outputs": [
    {
     "data": {
      "text/plain": [
       "{'took': 6,\n",
       " 'errors': False,\n",
       " 'items': [{'index': {'_index': 'index_3',\n",
       "    '_id': '1',\n",
       "    '_version': 2,\n",
       "    'result': 'updated',\n",
       "    '_shards': {'total': 2, 'successful': 1, 'failed': 0},\n",
       "    '_seq_no': 1,\n",
       "    '_primary_term': 1,\n",
       "    'status': 200}}]}"
      ]
     },
     "execution_count": 34,
     "metadata": {},
     "output_type": "execute_result"
    }
   ],
   "source": [
    "def opensearch_insert(apiEndpoint, username, password, searchIndex, openSearchData):\n",
    "    auth=(username, password)\n",
    "    bulkinserturl = apiEndpoint + '/' + searchIndex + \"/_bulk?pretty\"\n",
    "    headers = {'Content-Type': 'application/x-ndjson'}\n",
    "    resp = requests.post(bulkinserturl, auth=auth, headers=headers, data=openSearchData)\n",
    "    return resp.json()\n",
    "\n",
    "respxx = opensearch_insert(apiEndpoint, username, password, searchIndex, openSearchData)\n",
    "respxx\n",
    "\n"
   ]
  },
  {
   "cell_type": "markdown",
   "id": "1283a57f-13ff-4964-9346-d3b1fca1f960",
   "metadata": {},
   "source": [
    "## **Search OpenSearch**"
   ]
  },
  {
   "cell_type": "code",
   "execution_count": null,
   "id": "70fdc375-0e12-4a7e-b774-38a2a6d67fbe",
   "metadata": {},
   "outputs": [],
   "source": []
  },
  {
   "cell_type": "code",
   "execution_count": null,
   "id": "9c5f6fc6-208b-43bf-ba2f-b57adafa5338",
   "metadata": {},
   "outputs": [],
   "source": []
  },
  {
   "cell_type": "code",
   "execution_count": null,
   "id": "47538c6a-2431-4dfd-baf5-eac75f7febe6",
   "metadata": {},
   "outputs": [],
   "source": []
  },
  {
   "cell_type": "code",
   "execution_count": null,
   "id": "67827523-9c1a-4bad-aed4-9cb537ab7a5e",
   "metadata": {},
   "outputs": [],
   "source": []
  }
 ],
 "metadata": {
  "kernelspec": {
   "display_name": "Python [conda env:tensorflow28_p38_gpu_v1]",
   "language": "python",
   "name": "conda-env-tensorflow28_p38_gpu_v1-py"
  },
  "language_info": {
   "codemirror_mode": {
    "name": "ipython",
    "version": 3
   },
   "file_extension": ".py",
   "mimetype": "text/x-python",
   "name": "python",
   "nbconvert_exporter": "python",
   "pygments_lexer": "ipython3",
   "version": "3.8.13"
  }
 },
 "nbformat": 4,
 "nbformat_minor": 5
}
